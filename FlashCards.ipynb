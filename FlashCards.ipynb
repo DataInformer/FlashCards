{
 "cells": [
  {
   "cell_type": "markdown",
   "metadata": {},
   "source": [
    "Welcome to the much improved Quizlet style program!  All you have to do is hit 'run all cells' and you will be prompted for the right stuff"
   ]
  },
  {
   "cell_type": "code",
   "execution_count": 21,
   "metadata": {},
   "outputs": [],
   "source": [
    "import json\n",
    "import urllib.request\n",
    "import random\n",
    "from difflib import SequenceMatcher"
   ]
  },
  {
   "cell_type": "code",
   "execution_count": 22,
   "metadata": {},
   "outputs": [
    {
     "name": "stdout",
     "output_type": "stream",
     "text": [
      "what is the quizlet set number? \t184733157\n"
     ]
    }
   ],
   "source": [
    "index = input(\"what is the quizlet set number? \\t\")"
   ]
  },
  {
   "cell_type": "code",
   "execution_count": 23,
   "metadata": {},
   "outputs": [
    {
     "data": {
      "text/plain": [
       "'https://api.quizlet.com/2.0/sets/184733157?access_token=ZbhkduD7Va&whitespace=1'"
      ]
     },
     "execution_count": 23,
     "metadata": {},
     "output_type": "execute_result"
    }
   ],
   "source": [
    "'https://api.quizlet.com/2.0/sets/{}?access_token=ZbhkduD7Va&whitespace=1'.format(index)"
   ]
  },
  {
   "cell_type": "code",
   "execution_count": 24,
   "metadata": {},
   "outputs": [],
   "source": [
    "data = json.load(urllib.request.urlopen('https://api.quizlet.com/2.0/sets/{}?client_id=ZbhkduD7Va&whitespace=1'.format(index)))\n",
    "pairs = [(x['term'], x['definition'].lower()) for x in data['terms']]"
   ]
  },
  {
   "cell_type": "code",
   "execution_count": null,
   "metadata": {},
   "outputs": [],
   "source": [
    "124815649"
   ]
  },
  {
   "cell_type": "code",
   "execution_count": 25,
   "metadata": {},
   "outputs": [],
   "source": [
    "def quizme(term_pairs):\n",
    "    right, wrong = 0, 0 #tracking\n",
    "    random.shuffle(term_pairs) #picks a random ordering of the cards\n",
    "    for term, ans in term_pairs: \n",
    "        user_ans = input(term + ':\\t').lower()\n",
    "        if user_ans == '999': #escape code\n",
    "            break\n",
    "        if user_ans == ans:\n",
    "            print('\\nGood job!!')\n",
    "            right += 1\n",
    "        elif SequenceMatcher(None, user_ans, ans).ratio() > 0.75:\n",
    "            print('\\nClose enough.  I had it as ' + '\\033[92m' + ans + '\\033[0m.')\n",
    "            right += 1\n",
    "        else:\n",
    "            print('\\nSorry, the answer was ' + '\\033[91m' + ans + '\\033[0m.')\n",
    "            wrong +=1\n",
    "    print('\\nYou got {} questions right and {} questions wrong.'.format(right, wrong))"
   ]
  },
  {
   "cell_type": "code",
   "execution_count": 26,
   "metadata": {},
   "outputs": [
    {
     "name": "stdout",
     "output_type": "stream",
     "text": [
      "North Sudan:\tjuba\n",
      "\n",
      "Sorry, the answer was \u001b[91mkhartoum\u001b[0m\n",
      "Democratic Republic of Congo:\tkinsshasa\n",
      "\n",
      "Close enough.  I had it as \u001b[92mkinshasa\u001b[0m\n",
      "Malawi:\tllilongwe\n",
      "\n",
      "Close enough.  I had it as \u001b[92mlilongwe\u001b[0m\n",
      "Liberia:\t999\n",
      "\n",
      "You got 2 questions right and 1 questions wrong.\n"
     ]
    }
   ],
   "source": [
    "quizme(pairs)"
   ]
  },
  {
   "cell_type": "code",
   "execution_count": 27,
   "metadata": {},
   "outputs": [
    {
     "name": "stdout",
     "output_type": "stream",
     "text": [
      "Here are the answers\n",
      "[('North Sudan', 'khartoum'), ('Democratic Republic of Congo', 'kinshasa'), ('Malawi', 'lilongwe'), ('Liberia', 'monrovia'), ('Rwanda', 'kigali'), ('Djibouti', 'djibouti'), ('Gabon', 'libreville'), ('C.A.R (Central African Republic)', 'bangui'), ('Togo', 'lome'), ('Senegal', 'dakar'), ('Burkina Faso', 'ouagadougou'), ('Mozambique', 'maputo'), ('Zambia', 'lukasa'), ('Somalia', 'mogadishu'), ('Guinea', 'conakry'), ('Niger', 'niamey'), ('Lesotho', 'maseru'), ('Comoros', 'moroni'), ('Mauritania', 'nouakchott'), ('Uganda', 'kampala'), ('Nigeria', 'abuja'), ('Kenya', 'nairobi'), ('Botswana', 'gaborone')]\n"
     ]
    }
   ],
   "source": [
    "print('Here are the answers')\n",
    "print(pairs)"
   ]
  },
  {
   "cell_type": "code",
   "execution_count": null,
   "metadata": {
    "collapsed": true
   },
   "outputs": [],
   "source": []
  }
 ],
 "metadata": {
  "kernelspec": {
   "display_name": "Python 3",
   "language": "python",
   "name": "python3"
  },
  "language_info": {
   "codemirror_mode": {
    "name": "ipython",
    "version": 3
   },
   "file_extension": ".py",
   "mimetype": "text/x-python",
   "name": "python",
   "nbconvert_exporter": "python",
   "pygments_lexer": "ipython3",
   "version": "3.6.1"
  }
 },
 "nbformat": 4,
 "nbformat_minor": 2
}
