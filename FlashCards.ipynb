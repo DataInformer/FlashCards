{
 "cells": [
  {
   "cell_type": "markdown",
   "metadata": {},
   "source": [
    "Welcome to the much improved Quizlet style program!  All you have to do is hit 'run all cells' and you will be prompted for the right stuff"
   ]
  },
  {
   "cell_type": "code",
   "execution_count": 2,
   "metadata": {
    "collapsed": true
   },
   "outputs": [],
   "source": [
    "import json\n",
    "import urllib.request\n",
    "import random\n",
    "from difflib import SequenceMatcher"
   ]
  },
  {
   "cell_type": "code",
   "execution_count": 3,
   "metadata": {},
   "outputs": [
    {
     "name": "stdout",
     "output_type": "stream",
     "text": [
      "what is the quizlet set number? \t124815649\n"
     ]
    }
   ],
   "source": [
    "index = input(\"what is the quizlet set number? \\t\")"
   ]
  },
  {
   "cell_type": "markdown",
   "metadata": {},
   "source": [
    "Sample quizlet ID: 124815649"
   ]
  },
  {
   "cell_type": "markdown",
   "metadata": {},
   "source": [
    "I suggest hardcoding your client_id into the next cell.  It won't authenticate without a valid one."
   ]
  },
  {
   "cell_type": "code",
   "execution_count": null,
   "metadata": {
    "collapsed": true
   },
   "outputs": [],
   "source": [
    "client_id = ''"
   ]
  },
  {
   "cell_type": "code",
   "execution_count": 5,
   "metadata": {
    "collapsed": true
   },
   "outputs": [],
   "source": [
    "data = json.load(urllib.request.urlopen('https://api.quizlet.com/2.0/sets/{}?client_id={}&whitespace=1'.format(index, client_id)))\n",
    "pairs = [(x['term'], x['definition'].lower()) for x in data['terms']]"
   ]
  },
  {
   "cell_type": "code",
   "execution_count": 15,
   "metadata": {
    "collapsed": true
   },
   "outputs": [],
   "source": [
    "def quizme(term_pairs):\n",
    "    right, wrong = 0, 0 #tracking\n",
    "    random.shuffle(term_pairs) #picks a random ordering of the cards\n",
    "    for term, ans in term_pairs: \n",
    "        user_ans = input(term + ':\\t').lower()\n",
    "        if user_ans == '999': #escape code\n",
    "            break\n",
    "        user_ans_parts = user_ans.split(',')\n",
    "        ans_parts = ans.split(',')\n",
    "        \n",
    "        if user_ans == ans:\n",
    "            print('\\nGood job!!')\n",
    "            right += 1\n",
    "            continue\n",
    "        \n",
    "        else:\n",
    "            rights = []\n",
    "            for part in ans_parts:\n",
    "                for upart in user_ans_parts:\n",
    "                    if SequenceMatcher(None, part, upart).ratio() > 0.8:\n",
    "                        rights.append(True)\n",
    "            if len(rights) == len(ans_parts):    \n",
    "                print('\\nClose enough.  I had it as ' + '\\033[92m' + ans + '\\033[0m.')\n",
    "                right += 1\n",
    "                continue \n",
    "        print('\\nSorry, the answer was ' + '\\033[91m' + ans + '\\033[0m.')\n",
    "        wrong +=1\n",
    "    print('\\nYou got {} questions right and {} questions wrong.'.format(right, wrong))"
   ]
  },
  {
   "cell_type": "code",
   "execution_count": null,
   "metadata": {},
   "outputs": [
    {
     "name": "stdout",
     "output_type": "stream",
     "text": [
      "GHANA:\ta\n",
      "\n",
      "Sorry, the answer was \u001b[91maccra\u001b[0m.\n",
      "CONGO REPUBLIC:\tbrazzaville\n",
      "\n",
      "Good job!!\n",
      "COTE D'IVOIRE:\tabidan\n",
      "\n",
      "Sorry, the answer was \u001b[91mabidjan, yamoussoukro\u001b[0m.\n",
      "EQUATORIAL GUINEA:\tmalabi\n",
      "\n",
      "Close enough.  I had it as \u001b[92mmalabo\u001b[0m.\n",
      "ANGOLA:\tluanda\n",
      "\n",
      "Good job!!\n",
      "NAMIBIA:\twindhoek\n",
      "\n",
      "Good job!!\n",
      "SOUTH SUDAN:\tjuba\n",
      "\n",
      "Good job!!\n",
      "SIERRA LEONE:\tfreetown\n",
      "\n",
      "Good job!!\n",
      "ERITREA:\tasmara\n",
      "\n",
      "Good job!!\n",
      "ZIMBABWE:\thare\n",
      "\n",
      "Sorry, the answer was \u001b[91mharare\u001b[0m.\n",
      "MAURITIUS:\tport louis\n",
      "\n",
      "Good job!!\n",
      "SOUTH AFRICA:\tcapetown, bloemfontein, pretoria\n",
      "\n",
      "Close enough.  I had it as \u001b[92mcape town, bloemfontein, pretoria\u001b[0m.\n",
      "BURUNDI:\t999\n",
      "\n",
      "You got 9 questions right and 3 questions wrong.\n"
     ]
    }
   ],
   "source": [
    "quizme(pairs)"
   ]
  },
  {
   "cell_type": "code",
   "execution_count": 9,
   "metadata": {},
   "outputs": [
    {
     "name": "stdout",
     "output_type": "stream",
     "text": [
      "Here are the answers\n",
      "[('SOUTH AFRICA', 'cape town, bloemfontein, pretoria'), ('MADAGASCAR', 'antananarivo'), ('GUINEA BISSAU', 'bissau'), ('BURUNDI', 'bujumbura'), ('CAMEROON', \"yaounde'\"), (\"COTE D'IVOIRE\", 'abidjan, yamoussoukro'), ('SWAZILAND', 'mbabane, lobamba'), ('NAMIBIA', 'windhoek'), ('SOUTH SUDAN', 'juba'), ('GAMBIA', 'banjul'), ('ZIMBABWE', 'harare'), ('EQUATORIAL GUINEA', 'malabo'), ('BENIN', 'porto-novo'), ('CHAD', \"n'djamena\"), ('ERITREA', 'asmara'), ('MAURITIUS', 'port louis'), ('GHANA', 'accra'), ('ETHIOPIA', 'addis ababa'), ('MALI', 'bamako'), ('CONGO REPUBLIC', 'brazzaville'), ('TANZANIA', 'dar es salaam, dodoma'), ('SIERRA LEONE', 'freetown'), ('ANGOLA', 'luanda')]\n"
     ]
    }
   ],
   "source": [
    "print('Here are the answers')\n",
    "print(pairs)"
   ]
  }
 ],
 "metadata": {
  "kernelspec": {
   "display_name": "Python 3",
   "language": "python",
   "name": "python3"
  },
  "language_info": {
   "codemirror_mode": {
    "name": "ipython",
    "version": 3
   },
   "file_extension": ".py",
   "mimetype": "text/x-python",
   "name": "python",
   "nbconvert_exporter": "python",
   "pygments_lexer": "ipython3",
   "version": "3.6.1"
  }
 },
 "nbformat": 4,
 "nbformat_minor": 2
}
